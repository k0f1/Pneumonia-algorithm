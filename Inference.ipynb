{
 "cells": [
  {
   "cell_type": "code",
   "execution_count": 28,
   "metadata": {},
   "outputs": [],
   "source": [
    "import numpy as np\n",
    "import pandas as pd\n",
    "import pydicom\n",
    "%matplotlib inline\n",
    "import matplotlib.pyplot as plt\n",
    "import keras \n",
    "\n",
    "## Import specific libraries needed\n",
    "import pydicom\n",
    "import glob\n",
    "\n",
    "# Mathematical\n",
    "import scipy\n",
    "\n",
    "from keras.models import model_from_json\n",
    "from skimage.transform import resize\n",
    "\n",
    "# Library to create imgae path\n",
    "import pathlib\n",
    "import imageio\n",
    "## End of library to images\n",
    "\n",
    "\n",
    "from keras.preprocessing.image import ImageDataGenerator, load_img, img_to_array\n",
    "from PIL import Image\n",
    "from keras.preprocessing import image\n",
    "\n",
    "# Neccessary for confusion matrix\n",
    "import sklearn.metrics"
   ]
  },
  {
   "cell_type": "markdown",
   "metadata": {},
   "source": [
    "Incorrect path code\n",
    "\n",
    "My own attempt to extract the files in my terms"
   ]
  },
  {
   "cell_type": "code",
   "execution_count": 29,
   "metadata": {},
   "outputs": [],
   "source": [
    "# Glob the test data and load a single image path\n",
    "#test_paths = pathlib.Path( '../input/stage1_train').glob('*/images/*.dcm')\n",
    "#test_sorted = sorted([x for x in test_paths])\n",
    "#img_path = test_sorted[1]\n",
    "# img = imageio.imread(str(im_path))\n",
    "#img = pydicom.dcmread(img_path)\n"
   ]
  },
  {
   "cell_type": "markdown",
   "metadata": {},
   "source": [
    "The problem with the code above is that `test_paths` is empty because the generator is not well created. Indeed in my workspace there is no /image/ folder and also my pattern in the Path object is not correct ('.' instead of '/')"
   ]
  },
  {
   "cell_type": "code",
   "execution_count": 30,
   "metadata": {},
   "outputs": [],
   "source": [
    "test_paths = pathlib.Path('.').glob('*.dcm')\n",
    "test_sorted = sorted([x for x in test_paths])"
   ]
  },
  {
   "cell_type": "code",
   "execution_count": 31,
   "metadata": {},
   "outputs": [
    {
     "data": {
      "text/plain": [
       "[PosixPath('test1.dcm'),\n",
       " PosixPath('test2.dcm'),\n",
       " PosixPath('test3.dcm'),\n",
       " PosixPath('test4.dcm'),\n",
       " PosixPath('test5.dcm'),\n",
       " PosixPath('test6.dcm')]"
      ]
     },
     "execution_count": 31,
     "metadata": {},
     "output_type": "execute_result"
    }
   ],
   "source": [
    "test_sorted\n"
   ]
  },
  {
   "cell_type": "code",
   "execution_count": 32,
   "metadata": {},
   "outputs": [],
   "source": [
    "# Pull one image with the index\n",
    "im_path = test_sorted[1]\n",
    "# This code read that image into an array\n",
    "im = imageio.imread(str(im_path))"
   ]
  },
  {
   "cell_type": "code",
   "execution_count": 33,
   "metadata": {},
   "outputs": [
    {
     "data": {
      "text/plain": [
       "Array([[202, 199, 195, ...,   5,   2,   0],\n",
       "       [199, 196, 195, ...,   5,   2,   0],\n",
       "       [196, 194, 193, ...,   5,   2,   0],\n",
       "       ...,\n",
       "       [255, 255, 255, ...,   0,   0,   0],\n",
       "       [255, 255, 254, ...,   0,   0,   0],\n",
       "       [255, 255, 255, ...,   0,   0,   0]], dtype=uint8)"
      ]
     },
     "execution_count": 33,
     "metadata": {},
     "output_type": "execute_result"
    }
   ],
   "source": [
    "im"
   ]
  },
  {
   "cell_type": "markdown",
   "metadata": {},
   "source": [
    "### Needs all the dicom files here in a list\n",
    "Reference to the excercise on Lesson 3:14\n"
   ]
  },
  {
   "cell_type": "code",
   "execution_count": 34,
   "metadata": {},
   "outputs": [],
   "source": [
    "## Inserted Col\n",
    "## First, read all of my DICOM files into a list\n",
    "test_dicoms = glob.glob(\"*.dcm\")"
   ]
  },
  {
   "cell_type": "code",
   "execution_count": 35,
   "metadata": {},
   "outputs": [
    {
     "data": {
      "text/plain": [
       "['test2.dcm', 'test5.dcm', 'test1.dcm', 'test4.dcm', 'test6.dcm', 'test3.dcm']"
      ]
     },
     "execution_count": 35,
     "metadata": {},
     "output_type": "execute_result"
    }
   ],
   "source": [
    "test_dicoms"
   ]
  },
  {
   "cell_type": "markdown",
   "metadata": {},
   "source": [
    "**Let's look at the contents of the first DICOM;**"
   ]
  },
  {
   "cell_type": "code",
   "execution_count": 36,
   "metadata": {},
   "outputs": [],
   "source": [
    "# Inserted\n",
    "dcm1 = pydicom.dcmread(test_dicoms[0])"
   ]
  },
  {
   "cell_type": "code",
   "execution_count": 37,
   "metadata": {},
   "outputs": [
    {
     "data": {
      "text/plain": [
       "(0008, 0016) SOP Class UID                       UI: Secondary Capture Image Storage\n",
       "(0008, 0018) SOP Instance UID                    UI: 1.3.6.1.4.1.11129.5.5.153751009835107614666834563294684339746480\n",
       "(0008, 0060) Modality                            CS: 'DX'\n",
       "(0008, 1030) Study Description                   LO: 'Cardiomegaly'\n",
       "(0010, 0020) Patient ID                          LO: '1'\n",
       "(0010, 0040) Patient's Sex                       CS: 'M'\n",
       "(0010, 1010) Patient's Age                       AS: '58'\n",
       "(0018, 0015) Body Part Examined                  CS: 'CHEST'\n",
       "(0018, 5100) Patient Position                    CS: 'AP'\n",
       "(0020, 000d) Study Instance UID                  UI: 1.3.6.1.4.1.11129.5.5.111396399361969898205364400549799252857604\n",
       "(0020, 000e) Series Instance UID                 UI: 1.3.6.1.4.1.11129.5.5.195628213694300498946760767481291263511724\n",
       "(0028, 0002) Samples per Pixel                   US: 1\n",
       "(0028, 0004) Photometric Interpretation          CS: 'MONOCHROME2'\n",
       "(0028, 0010) Rows                                US: 1024\n",
       "(0028, 0011) Columns                             US: 1024\n",
       "(0028, 0100) Bits Allocated                      US: 8\n",
       "(0028, 0101) Bits Stored                         US: 8\n",
       "(0028, 0102) High Bit                            US: 7\n",
       "(0028, 0103) Pixel Representation                US: 0\n",
       "(7fe0, 0010) Pixel Data                          OW: Array of 1048576 elements"
      ]
     },
     "execution_count": 37,
     "metadata": {},
     "output_type": "execute_result"
    }
   ],
   "source": [
    "dcm1"
   ]
  },
  {
   "cell_type": "markdown",
   "metadata": {},
   "source": [
    "Looking at the attributes listed above, I can see that I'm looking to extract the following attributes:\n",
    "\n",
    "* Modality\n",
    "* Study Description\n",
    "* Patient ID\n",
    "* Patient's Sex\n",
    "* Patient's Age\n",
    "* Rows\n",
    "* Columns"
   ]
  },
  {
   "cell_type": "code",
   "execution_count": 38,
   "metadata": {},
   "outputs": [],
   "source": [
    "# Lets extract and read the first file\n",
    "dcm1 = pydicom.dcmread(test_dicoms[0])"
   ]
  },
  {
   "cell_type": "code",
   "execution_count": 39,
   "metadata": {},
   "outputs": [
    {
     "data": {
      "text/plain": [
       "'DX'"
      ]
     },
     "execution_count": 39,
     "metadata": {},
     "output_type": "execute_result"
    }
   ],
   "source": [
    "# Lets Aacess value from a field\n",
    "dcm1.Modality"
   ]
  },
  {
   "cell_type": "code",
   "execution_count": 40,
   "metadata": {},
   "outputs": [
    {
     "data": {
      "text/plain": [
       "'Cardiomegaly'"
      ]
     },
     "execution_count": 40,
     "metadata": {},
     "output_type": "execute_result"
    }
   ],
   "source": [
    "# Access another value\n",
    "dcm1.StudyDescription"
   ]
  },
  {
   "cell_type": "code",
   "execution_count": 41,
   "metadata": {},
   "outputs": [
    {
     "data": {
      "text/plain": [
       "'1'"
      ]
     },
     "execution_count": 41,
     "metadata": {},
     "output_type": "execute_result"
    }
   ],
   "source": [
    "dcm1.PatientID"
   ]
  },
  {
   "cell_type": "code",
   "execution_count": 42,
   "metadata": {},
   "outputs": [
    {
     "data": {
      "text/plain": [
       "'M'"
      ]
     },
     "execution_count": 42,
     "metadata": {},
     "output_type": "execute_result"
    }
   ],
   "source": [
    "dcm1.PatientSex"
   ]
  },
  {
   "cell_type": "code",
   "execution_count": 43,
   "metadata": {},
   "outputs": [
    {
     "data": {
      "text/plain": [
       "'58'"
      ]
     },
     "execution_count": 43,
     "metadata": {},
     "output_type": "execute_result"
    }
   ],
   "source": [
    "dcm1.PatientAge"
   ]
  },
  {
   "cell_type": "code",
   "execution_count": 44,
   "metadata": {},
   "outputs": [
    {
     "data": {
      "text/plain": [
       "'CHEST'"
      ]
     },
     "execution_count": 44,
     "metadata": {},
     "output_type": "execute_result"
    }
   ],
   "source": [
    "dcm1.BodyPartExamined"
   ]
  },
  {
   "cell_type": "markdown",
   "metadata": {},
   "source": [
    "### The purpose of check_dicom\n",
    "The check_dicom function reads in a .dcm file, checks the important fields for our device, and returns a numpy array of just the imaging data.\n",
    "\n",
    "The function **[check_dicom()]**, is required to check the image type(MODALITY), Body Part Examined (Chest), and Image position (PA or AP ) for each DICOM image and check if the input to the algorithm is valid to be predicted by our algorithm or not.\n",
    "\n",
    "However, your function make use of all dicoms files at once which isn't what we want to achieve here. The function validates a dicom file at a time, so you need to read the dicom using the filename provided to you as a parameter. From there on, you proceed on evaluating the fields making sure they contain the right values before sending the image for further processing and prediction.\n",
    "\n",
    "Ensure body part examined (BodyPartExamined) is CHEST else invalid\n",
    "Also ensure the Image Position (PatientPosition) is either AP or PA anything else is invalid.\n",
    "If everything is okay, you can return the image with this code segment which is already given to you by default.\n",
    "\n",
    "Consider this as a hint Applying the above check-in your program it should correctly predict the first three images and should reject the last three images"
   ]
  },
  {
   "cell_type": "code",
   "execution_count": 88,
   "metadata": {},
   "outputs": [],
   "source": [
    "# First\n",
    "# This function reads in a .dcm file, checks the important fields for our device, and returns a numpy array\n",
    "# of just the imaging data\n",
    "def check_dicom(filename): \n",
    "    # todo\n",
    "  \n",
    "        \n",
    "    # use this function to read a single dicom file as you have already # done in your code\n",
    "    dcm = pydicom.dcmread(filename) \n",
    "    img = dcm.pixel_array\n",
    "    \n",
    "    print('\\nLoad file {} ...'.format(filename))\n",
    "    print('Patient ID: ', dcm.PatientID)\n",
    "    print('Patient Position: ', dcm.PatientPosition)\n",
    "    print('Patient Age: ', dcm.PatientAge)\n",
    "    print('Patient Sex: ', dcm.PatientSex)\n",
    "    print('Body Part Examined: ', dcm.BodyPartExamined)\n",
    "    print('Study Description: ', dcm.StudyDescription)\n",
    "    print('Image type: ', dcm.Modality)\n",
    "    \n",
    "        \n",
    "    \n",
    "    # check fields for required values e.g\n",
    "    if dcm.Modality != \"DX\":\n",
    "        print('This image is excluded due to invalid Modality for prediction: ', dcm.Modality)\n",
    "        return None\n",
    "\n",
    "    # Ensure body part examined (BodyPartExamined) is CHEST else invalid\n",
    "    if dcm.BodyPartExamined != \"CHEST\":\n",
    "        print('This image is excluded due to invalid Body Part Examined for prediction: ', dcm.BodyPartExamined)\n",
    "        return None\n",
    "        \n",
    "    # Also ensure the Image Position (PatientPosition) is either AP or PA anything else is invalid.\n",
    "    if (dcm.PatientPosition != \"AP\") & (dcm.PatientPosition != \"PA\"):\n",
    "        print('This image is excluded due to invalid Patient Position for prediction: ', dcm.PatientPosition)\n",
    "        return None\n",
    "        \n",
    "\n",
    "        \n",
    "            \n",
    "    return img\n",
    "\n",
    "\n",
    "# This function takes the numpy array output by check_dicom and \n",
    "# runs the appropriate pre-processing needed for our model input\n",
    "def preprocess_image(img,img_mean,img_std,IMG_SIZE): # Remove img_mean, img_std and img_size from parameters\n",
    "    # todo\n",
    "    IMG_SIZE = (1,224, 224, 3)\n",
    "\n",
    "    # Standardize it using the standardization formula:(X - X_mean)/X_std_dev\n",
    "    proc_img = (img - img_mean)/img_std\n",
    "    # Finally resizing it to our desired size as a marker.\n",
    "    # proc_img = proc_img.resize(img, IMG_SIZE)\n",
    "    proc_img = np.resize(proc_img, IMG_SIZE)\n",
    "    \n",
    "    \n",
    "    return proc_img\n",
    "\n",
    "    \n",
    "    \n",
    "# This function loads in our trained model w/ weights and compiles it \n",
    "def load_model(model_path, weight_path):\n",
    "    \n",
    "    # todo\n",
    "    \n",
    "    model_path = \"my_model.json\" #path to saved model\n",
    "    weight_path = \"pneumonia_class_my_model.best.hdf5\" #path to saved best weights\n",
    "    \n",
    "    \n",
    "    # load json file \n",
    "    json_file = open(model_path, 'r')\n",
    "    # read the json file\n",
    "    json_to_model = json_file.read()\n",
    "    json_file.close()\n",
    "    my_model = model_from_json(json_to_model)\n",
    "    # load weights\n",
    "    my_model.load_weights(weight_path)\n",
    "    \n",
    "    \n",
    "    # The model your return should be an actual model\n",
    "    return my_model\n",
    "\n",
    "\n",
    "\n",
    "# This function uses our device's threshold parameters to predict whether or not\n",
    "# the image shows the presence of pneumonia using our trained model\n",
    "def predict_image(my_model, img, YOUR_THRESHOLD, numericLabels=False): \n",
    "    # todo  \n",
    "\n",
    "    result = my_model.predict(img)\n",
    "    # Use the index to retreive the value of the prediction  as result has index of o and a value.\n",
    "    predict =result[0]\n",
    "    if numericLabels:\n",
    "        if (predict > YOUR_THRESHOLD):\n",
    "            prediction = 1\n",
    "        else:\n",
    "            prediction = 0\n",
    "    else:\n",
    "        if(predict > YOUR_THRESHOLD):\n",
    "            prediction = 'Prediction: Positive'\n",
    "            \n",
    "        else:\n",
    "            prediction = 'Prediction: Negative'\n",
    "    \n",
    "    return prediction\n",
    "\n",
    "\n",
    "\n",
    "\n"
   ]
  },
  {
   "cell_type": "markdown",
   "metadata": {},
   "source": [
    "### load_model function\n",
    "The function load_model above doesn't load any model. \n",
    "It defines some variables and returns an empty variable. \n",
    "Trying to call the function results in the error below. \n",
    "The model you return should be an actual model.So I have changed the word model to my_model.\n"
   ]
  },
  {
   "cell_type": "markdown",
   "metadata": {},
   "source": [
    "### To correct model_1_input error\n",
    "\n",
    "**ValueError: Error when checking input: expected model_1_input to have 4 dimensions, but got array with shape (224, 224)** \n",
    "\n",
    "The model expect input tensors of 4 dimension (N, H, W, C) which stands for batch size, height, width, and channel. Therefore, to run prediction on single image, you can use numpy.expand_dims() to add dimensions to make it into (1,224,224,1). \n",
    "\n",
    "Another way is to use:\n",
    "\n",
    "np.reshape(image, (1,224,224,1)). \n",
    "\n",
    "The solution to the above was to change IMG_SIZE to (1,224, 224, 3) and adding these tow lines of code\n",
    "\n",
    "```\n",
    "img = image.img_to_array(img)\n",
    "img = np.expand_dims(img, axis=0)\n",
    "```\n",
    "\n"
   ]
  },
  {
   "cell_type": "code",
   "execution_count": 89,
   "metadata": {
    "scrolled": false
   },
   "outputs": [
    {
     "name": "stdout",
     "output_type": "stream",
     "text": [
      "\n",
      "Load file test1.dcm ...\n",
      "Patient ID:  2\n",
      "Patient Position:  PA\n",
      "Patient Age:  81\n",
      "Patient Sex:  M\n",
      "Body Part Examined:  CHEST\n",
      "Study Description:  No Finding\n",
      "Image type:  DX\n",
      "Image shape: (1024, 1024)\n",
      "Prediction: Positive\n",
      "\n",
      "Load file test2.dcm ...\n",
      "Patient ID:  1\n",
      "Patient Position:  AP\n",
      "Patient Age:  58\n",
      "Patient Sex:  M\n",
      "Body Part Examined:  CHEST\n",
      "Study Description:  Cardiomegaly\n",
      "Image type:  DX\n",
      "Image shape: (1024, 1024)\n",
      "Prediction: Positive\n",
      "\n",
      "Load file test3.dcm ...\n",
      "Patient ID:  61\n",
      "Patient Position:  AP\n",
      "Patient Age:  77\n",
      "Patient Sex:  M\n",
      "Body Part Examined:  CHEST\n",
      "Study Description:  Effusion\n",
      "Image type:  DX\n",
      "Image shape: (1024, 1024)\n",
      "Prediction: Negative\n",
      "\n",
      "Load file test4.dcm ...\n",
      "Patient ID:  2\n",
      "Patient Position:  PA\n",
      "Patient Age:  81\n",
      "Patient Sex:  M\n",
      "Body Part Examined:  RIBCAGE\n",
      "Study Description:  No Finding\n",
      "Image type:  DX\n",
      "This image is excluded due to invalid Body Part Examined for prediction:  RIBCAGE\n",
      "\n",
      "Load file test5.dcm ...\n",
      "Patient ID:  2\n",
      "Patient Position:  PA\n",
      "Patient Age:  81\n",
      "Patient Sex:  M\n",
      "Body Part Examined:  CHEST\n",
      "Study Description:  No Finding\n",
      "Image type:  CT\n",
      "This image is excluded due to invalid Modality for prediction:  CT\n",
      "\n",
      "Load file test6.dcm ...\n",
      "Patient ID:  2\n",
      "Patient Position:  XX\n",
      "Patient Age:  81\n",
      "Patient Sex:  M\n",
      "Body Part Examined:  CHEST\n",
      "Study Description:  No Finding\n",
      "Image type:  DX\n",
      "This image is excluded due to invalid Patient Position for prediction:  XX\n"
     ]
    }
   ],
   "source": [
    "test_dicoms = ['test1.dcm','test2.dcm','test3.dcm','test4.dcm','test5.dcm','test6.dcm']\n",
    "\n",
    "## These files are located at the root folder /my_model.json and /pneumonia_class_mmy_model.best.hdf5\n",
    "model_path = 'my_model.json' #path to saved model\n",
    "weight_path = '\"pneumonia_class_my_model.best.hdf5\"' #path to saved best weights\n",
    "\n",
    "\n",
    "# IMG_SIZE=224 # This might be different if you did not use vgg16\n",
    "# img_mean = 0 # loads the mean image value they used during training preprocessing\n",
    "# img_std = 1 # loads the std dev image value they used during training preprocessing\n",
    "\n",
    "\n",
    "my_model = load_model(model_path, weight_path) #loads model \n",
    "best_threshold = 0.40 # Used for model classification\n",
    "YOUR_THRESHOLD = best_threshold\n",
    "\n",
    "# Use the dicocm files to test your prediction\n",
    "#for i in test_dicoms:\n",
    "\n",
    "for i in test_dicoms:\n",
    "    \n",
    "    img = np.array([])\n",
    "    img = check_dicom(i) \n",
    "  \n",
    "    if img is None:\n",
    "        continue\n",
    " \n",
    "    print('Image shape: {}'.format(img.shape))\n",
    "    img_reshape = img.reshape((img.shape[0], img.shape[1]))\n",
    "    \n",
    "    # Declare the mean and std here\n",
    "    img_mean = np.mean(img)\n",
    "    img_std = np.std(img)\n",
    "    # To run prediction on single image, use numpy.expand_dims()\n",
    "    img = image.img_to_array(img)\n",
    "    img = np.expand_dims(img, axis=0)\n",
    "    IMG_SIZE = (1,224, 224,3) # this is the shape for VGG16 model\n",
    "    \n",
    "    img_proc = preprocess_image(img,img_mean,img_std,IMG_SIZE)\n",
    "    pred = predict_image(my_model,img_proc,best_threshold)\n",
    "    print(pred)\n"
   ]
  },
  {
   "cell_type": "markdown",
   "metadata": {},
   "source": [
    "### Clinical workflow integration\n",
    "This file deals with clinical workflow integration"
   ]
  },
  {
   "cell_type": "markdown",
   "metadata": {},
   "source": [
    "### Measure performance of the test files"
   ]
  },
  {
   "cell_type": "markdown",
   "metadata": {},
   "source": [
    "**Now, let's create the dataframe that we want, and populate it in a loop with all of our images**"
   ]
  },
  {
   "cell_type": "code",
   "execution_count": 90,
   "metadata": {},
   "outputs": [],
   "source": [
    "all_data = []\n",
    "\n",
    "for img in test_dicoms: \n",
    "    # Define a variable and assign, a read of the file\n",
    "    fields = ['img.PatientID', 'img.StudyDescription', 'img.iterrows', 'img.columns']\n",
    "    all_data.append(fields)\n",
    "    \n"
   ]
  },
  {
   "cell_type": "code",
   "execution_count": 91,
   "metadata": {},
   "outputs": [],
   "source": [
    "test_df = pd.DataFrame(all_data, \n",
    "                      columns = ['PatientID', 'StudyDescription', 'Rows','Columns'])\n",
    "\n",
    "pd.DataFrame(test_df).to_csv('test_df.csv')"
   ]
  },
  {
   "cell_type": "markdown",
   "metadata": {},
   "source": [
    "**Performance in the presence of concurrent diseases**"
   ]
  },
  {
   "cell_type": "code",
   "execution_count": null,
   "metadata": {},
   "outputs": [],
   "source": []
  },
  {
   "cell_type": "code",
   "execution_count": null,
   "metadata": {},
   "outputs": [],
   "source": []
  }
 ],
 "metadata": {
  "kernelspec": {
   "display_name": "Python 3",
   "language": "python",
   "name": "python3"
  },
  "language_info": {
   "codemirror_mode": {
    "name": "ipython",
    "version": 3
   },
   "file_extension": ".py",
   "mimetype": "text/x-python",
   "name": "python",
   "nbconvert_exporter": "python",
   "pygments_lexer": "ipython3",
   "version": "3.7.6"
  }
 },
 "nbformat": 4,
 "nbformat_minor": 2
}
